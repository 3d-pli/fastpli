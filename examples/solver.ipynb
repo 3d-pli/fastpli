{
 "cells": [
  {
   "cell_type": "markdown",
   "metadata": {},
   "source": [
    "# Solver - Tutorial\n",
    "\n",
    "## Non colliding fiber models\n",
    "\n",
    "An important component of nerve fibers is that they are 3d objects.\n",
    "Therefore, they should not overlap each other.\n",
    "To achieve this, an [algorithm](https://arxiv.org/abs/1901.10284) was developed based on collision checking of conical objects.\n",
    "A conical object is defined by two  neighboring points in the fiber array, i.e. fiber[i] and fiber[i+1].\n",
    "\n",
    "The class `solver` checks a given fiber model for collisions and resolves these collisions iteratively by small displacements.\n",
    "\n",
    "To account for the flexibility of fibers, they are continuously divided into segments. These segments are modeled geometrically as cones.\n",
    "\n",
    "A parallel implementation of an octree is used to run the collision detection algorithm between these cones."
   ]
  },
  {
   "cell_type": "markdown",
   "metadata": {},
   "source": [
    "## General imports\n",
    "\n",
    "First, we prepair all necesarry modules and defining a function to euqalice all three axis of an 3d plot."
   ]
  },
  {
   "cell_type": "code",
   "execution_count": null,
   "metadata": {},
   "outputs": [],
   "source": [
    "import fastpli.model.solver\n",
    "import fastpli.model.sandbox\n",
    "import fastpli.io\n",
    "\n",
    "import os\n",
    "\n",
    "import numpy as np\n",
    "import matplotlib.pyplot as plt\n",
    "\n",
    "np.random.seed(42)\n",
    "\n",
    "def set_3d_axes_equal(ax):\n",
    "    x_limits = ax.get_xlim3d()\n",
    "    y_limits = ax.get_ylim3d()\n",
    "    z_limits = ax.get_zlim3d()\n",
    "\n",
    "    x_range = abs(x_limits[1] - x_limits[0])\n",
    "    x_middle = np.mean(x_limits)\n",
    "    y_range = abs(y_limits[1] - y_limits[0])\n",
    "    y_middle = np.mean(y_limits)\n",
    "    z_range = abs(z_limits[1] - z_limits[0])\n",
    "    z_middle = np.mean(z_limits)\n",
    "\n",
    "    plot_radius = 0.5 * max([x_range, y_range, z_range])\n",
    "\n",
    "    ax.set_xlim3d([x_middle - plot_radius, x_middle + plot_radius])\n",
    "    ax.set_ylim3d([y_middle - plot_radius, y_middle + plot_radius])\n",
    "    ax.set_zlim3d([z_middle - plot_radius, z_middle + plot_radius])\n",
    "\n",
    "def plot_fiber_bundles(fbs, colors):\n",
    "    fig = plt.figure()\n",
    "    ax = fig.add_subplot(1, 1, 1, projection='3d')\n",
    "    for fb, c in zip(fbs, colors):\n",
    "        for f in fb:\n",
    "            plt.plot(f[:,0],f[:,1],f[:,2], c)\n",
    "    set_3d_axes_equal(ax)"
   ]
  },
  {
   "cell_type": "markdown",
   "metadata": {},
   "source": [
    "## Prepairing Models and defining bounding conditions\n",
    "\n",
    "The [fiber bundles](https://github.com/3d-pli/fastpli/wiki/FiberBundles) are prepaired as shown in the sandbox examples/tutorials.\n",
    "Additionally each fiber will get a random radius.\n",
    "\n",
    "Two crossing fiber bundle (x and y) are prepaiered in this manor.\n",
    "\n",
    "### Note\n",
    "- Take note that matplotlib does not check z-buffering. Therefore each new plotted line is on top of the lines before.\n",
    "That why the second fiber bundle (red) seems to be on top of the first one (blue).\n",
    "\n",
    "- Also not be showing here.\n",
    "The solver class provides an OpenGL visualization tool `solver.draw_scene()` which is not shown in this notebook since.\n",
    "The example file `examples/solver.py` and [wiki](https://github.com/3d-pli/fastpli/wiki/Solver) shows its capabilities.\n",
    "\n"
   ]
  },
  {
   "cell_type": "code",
   "execution_count": null,
   "metadata": {},
   "outputs": [],
   "source": [
    "solver = fastpli.model.solver.Solver()\n",
    "\n",
    "fiber_bundle_trj_x = [[-150, 0, 0], [150, 0, 0]]\n",
    "fiber_bundle_trj_y = [[0, -150, 0], [0, 150, 0]]\n",
    "\n",
    "population = fastpli.model.sandbox.seeds.triangular_circle(20, 6)\n",
    "\n",
    "fiber_radii = np.random.uniform(2.0, 10.0, population.shape[0])\n",
    "fiber_bundle_x = fastpli.model.sandbox.build.bundle(fiber_bundle_trj_x,\n",
    "                                                    population, fiber_radii)\n",
    "\n",
    "fiber_radii = np.random.uniform(2.0, 10.0, population.shape[0])\n",
    "fiber_bundle_y = fastpli.model.sandbox.build.bundle(fiber_bundle_trj_y,\n",
    "                                                    population, fiber_radii)\n",
    "\n",
    "fiber_bundles = [fiber_bundle_x, fiber_bundle_y]\n",
    "\n",
    "plot_fiber_bundles(fiber_bundles, ['b', 'r'])\n",
    "plt.show()"
   ]
  },
  {
   "cell_type": "markdown",
   "metadata": {},
   "source": [
    "## Running solver\n",
    "\n",
    "The solver algorithm splits each fiber into almost equal fiber segments allowing to seperate the model more naturally.\n",
    "The mean length of this segments is controlled via `solver.obj_mean_length`.\n",
    "Since the fiber segments will move in each step of the algorithm, the curviture of the fibers can increase quite fast.\n",
    "To limit this a maximal curviture radii of the fibers can be set via `solver.obj_min_radius`.\n",
    "This means that a \"circle\" of point `p_i-1, p_i` and `p_i+1` is limited by a lower value.\n",
    "Is the value exceeded, the betroffende fiber segments are corrected slightly.\n",
    "\n",
    "If all conditions are fullfiled, the output is marked as solved and the model can be used for further processing."
   ]
  },
  {
   "cell_type": "code",
   "execution_count": null,
   "metadata": {},
   "outputs": [],
   "source": [
    "# run solver\n",
    "solver.fiber_bundles = fiber_bundles\n",
    "solver.obj_min_radius = 10\n",
    "solver.obj_mean_length = 30\n",
    "\n",
    "N = 1000\n",
    "for i in range(N):\n",
    "    solved = solver.step()\n",
    "    if solved:\n",
    "        break\n",
    "    print(f'{i/N*100:.2f}%', end='\\r')\n",
    "print(f'solved: {i}, {solver.num_obj}/{solver.num_col_obj}')\n",
    "\n",
    "plot_fiber_bundles(solver.fiber_bundles, ['b', 'r'])\n",
    "plt.show()"
   ]
  },
  {
   "cell_type": "markdown",
   "metadata": {},
   "source": [
    "## Saving\n",
    "\n",
    "The resulting configuration can be save in a `.dat` file or `.h5` (HDF5) file wich is supported via this toolbox."
   ]
  },
  {
   "cell_type": "code",
   "execution_count": null,
   "metadata": {},
   "outputs": [],
   "source": [
    "fastpli.io.fiber_bundles.save('output.dat', solver.fiber_bundles, mode='w')"
   ]
  },
  {
   "cell_type": "markdown",
   "metadata": {},
   "source": [
    "## Additiona manipulations\n",
    "\n",
    "A trick to allow for more randomness is to apply more varrity to the fiber models at the beginning of the solver alrogithm. \n",
    "However since the boundry conditions i. e. curviture and mean fiber segment length is usually not set when initializing the models, one can apply the boundry conditions to the currently set models inside the solver object.And can then be afterward manipulated"
   ]
  },
  {
   "cell_type": "code",
   "execution_count": null,
   "metadata": {},
   "outputs": [],
   "source": [
    "# run solver\n",
    "solver.fiber_bundles = fiber_bundles\n",
    "solver.obj_min_radius = 10\n",
    "solver.obj_mean_length = 30\n",
    "solver.apply_boundary_conditions(n_max=10)\n",
    "print(fiber_bundles[0][0].shape)\n",
    "print(solver.fiber_bundles[0][0].shape)\n",
    "\n",
    "fbs = solver.fiber_bundles\n",
    "for i, fb in enumerate(fbs):\n",
    "    for j, _ in enumerate(fb):\n",
    "        fbs[i][j][:,:3] += np.random.uniform(-10,10,(fbs[i][j].shape[0],3))\n",
    "        fbs[i][j][:,3] *= np.random.uniform(0.5,2,(fbs[i][j].shape[0]))\n",
    "plot_fiber_bundles(fbs, ['b', 'r'])\n",
    "plt.show()\n",
    "\n",
    "N = 1000\n",
    "solver.fiber_bundles = fbs\n",
    "for i in range(N):\n",
    "    solved = solver.step()\n",
    "    if solved:\n",
    "        break\n",
    "    print(f'{i/N*100:.2f}%', end='\\r')\n",
    "print(f'solved: {i}, {solver.num_obj}/{solver.num_col_obj}')\n",
    "\n",
    "plot_fiber_bundles(solver.fiber_bundles, ['b', 'r'])\n",
    "plt.show()\n"
   ]
  },
  {
   "cell_type": "markdown",
   "metadata": {},
   "source": [
    "## Orientation histogram"
   ]
  },
  {
   "cell_type": "code",
   "execution_count": null,
   "metadata": {},
   "outputs": [],
   "source": [
    "import fastpli.analysis\n",
    "\n",
    "_, axs = plt.subplots(1,2, subplot_kw=dict(projection='polar'), figsize=(10,5))\n",
    "\n",
    "\n",
    "pcs=[None, None]\n",
    "phi, theta = fastpli.analysis.orientation.fiber_bundles(fiber_bundles)\n",
    "_, _, _, pcs[0] = fastpli.analysis.orientation.histogram(phi,\n",
    "                                                     theta,\n",
    "                                                     ax=axs[0],\n",
    "                                                     n_phi=60,\n",
    "                                                     n_theta=30,\n",
    "                                                     weight_area=False)\n",
    "\n",
    "phi, theta = fastpli.analysis.orientation.fiber_bundles(solver.fiber_bundles)\n",
    "_, _, _, pcs[1] = fastpli.analysis.orientation.histogram(phi,\n",
    "                                                     theta,\n",
    "                                                     ax=axs[1],\n",
    "                                                     n_phi=60,\n",
    "                                                     n_theta=30,\n",
    "                                                     weight_area=False)                                                     \n",
    "\n",
    "for ax, pc in zip(axs, pcs):\n",
    "    cbar = plt.colorbar(pc, ax=ax)\n",
    "    cbar.ax.set_title('#')\n",
    "    ax.set_rmax(90)\n",
    "    ax.set_rticks(range(0, 90, 10))\n",
    "    ax.set_rlabel_position(22.5)\n",
    "    ax.set_yticklabels([])\n",
    "    ax.grid(True)\n",
    "\n",
    "plt.show()"
   ]
  }
 ],
 "metadata": {
  "language_info": {
   "name": "python"
  }
 },
 "nbformat": 4,
 "nbformat_minor": 2
}
