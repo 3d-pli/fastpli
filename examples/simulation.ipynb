{
 "cells": [
  {
   "cell_type": "markdown",
   "metadata": {},
   "source": [
    "# Simulation - Tutorial"
   ]
  },
  {
   "cell_type": "markdown",
   "metadata": {},
   "source": [
    "3D-PLI allows to measure the orientation of nerve fibers in brain section. This document guides you threw the simulated measurementt process and analysis.\n",
    "\n",
    "After the generation of fiber models (->Sandbox) and making sure no colliding objects are present (->Solver), the models can now be sectioned and visualized inside a virtual 3D-PLI microscope.\n",
    "\n"
   ]
  },
  {
   "cell_type": "markdown",
   "metadata": {},
   "source": [
    "## General imports\n"
   ]
  },
  {
   "cell_type": "code",
   "execution_count": null,
   "metadata": {},
   "outputs": [],
   "source": [
    "import fastpli.simulation\n",
    "import fastpli.analysis\n",
    "import fastpli.tools\n",
    "import fastpli.io\n",
    "\n",
    "import matplotlib.pyplot as plt\n",
    "import numpy as np\n",
    "import multiprocessing as mp\n",
    "\n",
    "np.random.seed(42)\n",
    "pool = mp.Pool(2)\n"
   ]
  },
  {
   "cell_type": "markdown",
   "metadata": {},
   "source": [
    "The first step is to define the simulation class `Simpli`."
   ]
  },
  {
   "cell_type": "code",
   "execution_count": null,
   "metadata": {},
   "outputs": [],
   "source": [
    "simpli = fastpli.simulation.Simpli()\n",
    "simpli.omp_num_threads = 2"
   ]
  },
  {
   "cell_type": "markdown",
   "metadata": {},
   "source": [
    "The next step is to specify all tissue parameters, i.e. the simulation grid `voxel_size` and the section volume of interest `voi`. Since the tissue generation process generates a 3d discrete model, it scales O(nx*ny*nz). Therefore the `Simpli` class provides a `memory_usage()` method to return an estimate for the memory. \n",
    "\n",
    "### Note\n",
    "\n",
    "> A `voxel_size` of 0.5 µm is quite large. It is recommendet to have a `voxel_size` of at least 1/10 smaller then the `pixel_size` and fiber radii."
   ]
  },
  {
   "cell_type": "code",
   "execution_count": null,
   "metadata": {},
   "outputs": [],
   "source": [
    "simpli.voxel_size = 2  # in micro meter\n",
    "simpli.set_voi([-100,-50,-50], [2300, 500, 50])  # in micro meter\n",
    "print('Memory:', str(round(simpli.memory_usage('MB'), 2)) + ' MB')"
   ]
  },
  {
   "cell_type": "markdown",
   "metadata": {},
   "source": [
    "Then the fiber model can be loaded. Here we use a preparied `fastpli.dat` file, which can be read (and saved) with the `fastpli.io` methods. In Addition the layers of each fiber bundle has to be specified.\n",
    "\n",
    "Each layer (see Wiki) contains out of a radial scaling parameter \\[0\\], a birefringence strenth \\[1\\], a absorption coefficient \\[2\\] and the used optical axis model \\[3\\]."
   ]
  },
  {
   "cell_type": "code",
   "execution_count": null,
   "metadata": {},
   "outputs": [],
   "source": [
    "simpli.fiber_bundles = fastpli.io.fiber_bundles.load('fastpli.dat')\n",
    "simpli.fiber_bundles.layers = [[(0.666, 0, 5, 'b'),\n",
    "                                (1.0, 0.004, 1, 'r')]]"
   ]
  },
  {
   "cell_type": "markdown",
   "metadata": {},
   "source": [
    "Now everything is set to generate all tissue components.\n",
    "The `tissue` dataset contains a indexed representation of the tissue, with 0 as background and 1 to n for the first fiber bundle and its n layers, n+1 to 2n for the second and so on.\n",
    "The `optical_axis` contains a (x,y,z) representation of the orientation of the birefringends optical axis, generated with repect to the parallel or radial model provided by the layer component. Last the `tissue_properties` contains a list of the birefringend strength and absorption coefficient in the same order as the indexed `tissue` dataset."
   ]
  },
  {
   "cell_type": "code",
   "execution_count": null,
   "metadata": {},
   "outputs": [],
   "source": [
    "tissue, optical_axis, tissue_properties = simpli.generate_tissue()\n",
    "print(tissue.shape)\n",
    "print(optical_axis.shape)\n",
    "print(tissue_properties)"
   ]
  },
  {
   "cell_type": "markdown",
   "metadata": {},
   "source": [
    "Since we now have our \"tissue\" we want to measure it in the 3D-PLI microscope.\n",
    "\n",
    "Again it startes by defining all necesarry parameters for the mesurement. Pleaase read the 3D-PLI setup section in the Wiki to be able to understand all components in more detail."
   ]
  },
  {
   "cell_type": "code",
   "execution_count": null,
   "metadata": {},
   "outputs": [],
   "source": [
    "simpli.filter_rotations = np.deg2rad([0, 30, 60, 90, 120, 150])\n",
    "simpli.light_intensity = 26000  # a.u.\n",
    "simpli.wavelength = 525  # in nm\n",
    "simpli.pixel_size = 10  # in micro meter\n",
    "simpli.optical_sigma = 0.71  # in pixel size\n",
    "simpli.noise_model = lambda x: np.random.negative_binomial(\n",
    "    x / (3 - 1), 1 / 3)\n",
    "simpli.tilts = np.deg2rad([(0, 0), (5.5, 0), (5.5, 90),\n",
    "                            (5.5, 180), (5.5, 270)])"
   ]
  },
  {
   "cell_type": "code",
   "execution_count": null,
   "metadata": {},
   "outputs": [],
   "source": [
    "tilting_stack = []\n",
    "for theta, phi in simpli.tilts:\n",
    "    print(f\"Tilt: theta={np.rad2deg(theta):.1f}, phi={np.rad2deg(phi):.1f}\")\n",
    "    images = simpli.run_simulation(tissue, optical_axis, tissue_properties,\n",
    "                                    theta, phi)\n",
    "\n",
    "    _, images = simpli.apply_optic(images)\n",
    "    tilting_stack.append(images)"
   ]
  },
  {
   "cell_type": "markdown",
   "metadata": {},
   "source": [
    "The effitient parallel analysis `epa` calculates the three modalities `transmittance` (2*mean intensity), `direction` (phase) and `retardation` (relative amplitude) of the sinusoidal signal.\n",
    "The tilting analysis provide by the `ROFL` algorithm a estimation for the `direction`, `inclination` and `t_rel` (relativ birefringend thickness) value of the fibers\n",
    "With this the fiber orienation map (fom) can be generated.\n",
    "The rofl analysis can be boosted by the `multiprocessing` module\n"
   ]
  },
  {
   "cell_type": "code",
   "execution_count": null,
   "metadata": {},
   "outputs": [],
   "source": [
    "transmittance, direction, retardation = simpli.apply_epa(tilting_stack[0])\n",
    "rofl_direction, rofl_incl, rofl_t_rel, _ = simpli.apply_rofl(tilting_stack, mp_pool = pool)\n",
    "fom = fastpli.analysis.images.fom_hsv_black(rofl_direction, rofl_incl)"
   ]
  },
  {
   "cell_type": "markdown",
   "metadata": {},
   "source": [
    "## Data visualization\n",
    "\n",
    "The resulting images can now be visualized\n",
    "\n",
    "### Note\n",
    "\n",
    "> All datasets containing spacial information (images, tissue, optical axis) are orded in x-y-z. Since Matplotlib and mostly other visualization libraries or image datasets expect a order of y-x, we have to swap the first two axis first.\n",
    "> Also it is recommendet to use the interpolation method `nearest`."
   ]
  },
  {
   "cell_type": "code",
   "execution_count": null,
   "metadata": {},
   "outputs": [],
   "source": [
    "fig, axs = plt.subplots(1,3, sharey=True, figsize=(15,5))\n",
    "axs[0].imshow(transmittance.T, origin='lower', interpolation='nearest')\n",
    "axs[0].set_title('transmittance')\n",
    "axs[1].imshow(direction.T, origin='lower', interpolation='nearest')\n",
    "axs[1].set_title('direction')\n",
    "axs[2].imshow(retardation.T, origin='lower', interpolation='nearest')\n",
    "axs[2].set_title('retardation')\n",
    "plt.show()"
   ]
  },
  {
   "cell_type": "code",
   "execution_count": null,
   "metadata": {},
   "outputs": [],
   "source": [
    "fig, axs = plt.subplots(1,4, sharey=True, figsize=(20,5))\n",
    "axs[0].imshow(rofl_direction.T, origin='lower', interpolation='nearest')\n",
    "axs[0].set_title('direction')\n",
    "axs[1].imshow(rofl_incl.T, origin='lower', interpolation='nearest')\n",
    "axs[1].set_title('inclination')\n",
    "axs[2].imshow(rofl_t_rel.T, origin='lower', interpolation='nearest')\n",
    "axs[2].set_title('t_rel')\n",
    "axs[3].imshow(np.swapaxes(fom, 0, 1), origin='lower', interpolation='nearest')\n",
    "axs[3].set_title('fom')\n",
    "plt.show()\n",
    "\n",
    "fig, axs = plt.subplots(1,1, figsize=(1,1))\n",
    "plt.imshow(np.swapaxes(fastpli.analysis.images.hsv_black_sphere(), 0, 1), origin='lower')\n",
    "plt.axis('off')\n",
    "plt.show()"
   ]
  }
 ],
 "metadata": {
  "language_info": {
   "name": "python"
  }
 },
 "nbformat": 4,
 "nbformat_minor": 2
}
