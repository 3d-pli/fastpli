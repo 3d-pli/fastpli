{
 "cells": [
  {
   "cell_type": "markdown",
   "metadata": {},
   "source": [
    "# Sandbox - Tutorial\n",
    "\n",
    "## Building a fiber bundle\n",
    "\n",
    "A [fiber bundle](https://github.com/3d-pli/fastpli/wiki/FiberBundles) consit out of multiple individual nerve fibers.\n",
    "A fiber bundle is a list of fibers, where fibers are represented as `(n,4)-np.array`.\n",
    "\n",
    "This makes desining individually fiber of any shape possible.\n",
    "However since nerve fibers are often in nerve fiber bundles, this toolbox allows to fill fiber_bundles from a pattern of fibers.\n",
    "\n",
    "Additionally this toolbox also allows to build parallell cubic shapes as well as different kinds of cylindric shapes to allow a faster building experience."
   ]
  },
  {
   "source": [
    "## General imports\n",
    "\n",
    "First, we prepair all necesarry modules and defining a function to euqalice all three axis of an 3d plot.\n",
    "\n",
    "You can change the `magic ipython` line from `qt` to `inline` to allow inline matplot figures.\n",
    "However the `qt` method allows us also to rotate the resulting plots allowing us to investigate the 3d models from different views.  "
   ],
   "cell_type": "markdown",
   "metadata": {}
  },
  {
   "cell_type": "code",
   "execution_count": null,
   "metadata": {},
   "outputs": [],
   "source": [
    "import numpy as np\n",
    "import matplotlib.pyplot as plt\n",
    "\n",
    "%matplotlib inline\n",
    "# %matplotlib qt\n",
    "\n",
    "import fastpli.model.sandbox as sandbox\n",
    "\n",
    "def set_3d_axes_equal(ax):\n",
    "    x_limits = ax.get_xlim3d()\n",
    "    y_limits = ax.get_ylim3d()\n",
    "    z_limits = ax.get_zlim3d()\n",
    "\n",
    "    x_range = abs(x_limits[1] - x_limits[0])\n",
    "    x_middle = np.mean(x_limits)\n",
    "    y_range = abs(y_limits[1] - y_limits[0])\n",
    "    y_middle = np.mean(y_limits)\n",
    "    z_range = abs(z_limits[1] - z_limits[0])\n",
    "    z_middle = np.mean(z_limits)\n",
    "\n",
    "    plot_radius = 0.5 * max([x_range, y_range, z_range])\n",
    "\n",
    "    ax.set_xlim3d([x_middle - plot_radius, x_middle + plot_radius])\n",
    "    ax.set_ylim3d([y_middle - plot_radius, y_middle + plot_radius])\n",
    "    ax.set_zlim3d([z_middle - plot_radius, z_middle + plot_radius])"
   ]
  },
  {
   "cell_type": "markdown",
   "metadata": {},
   "source": [
    "## Designing a fiber bundle\n",
    "\n",
    "The idea is to build design first a macroscopic struces, i. e. nerve fiber bundles, which can then at a later step be filled with individual nerve fibers.\n",
    "\n"
   ]
  },
  {
   "source": [
    "We start by defining a fiber bundle as a trajectory of points (similar to fibers).\n",
    "As an example we start with use a helical form."
   ],
   "cell_type": "markdown",
   "metadata": {}
  },
  {
   "cell_type": "code",
   "execution_count": null,
   "metadata": {},
   "outputs": [],
   "source": [
    "t = np.linspace(0, 4 * np.pi, 50, True)\n",
    "traj = np.array((10*np.cos(t), 10*np.sin(t), 10*t)).T\n",
    "\n",
    "fig = plt.figure()\n",
    "ax = fig.add_subplot(1,1,1, projection='3d')    \n",
    "ax.plot(traj[:, 0], traj[:, 1], traj[:, 2], )\n",
    "plt.title(\"fb trajectory\")"
   ]
  },
  {
   "cell_type": "markdown",
   "metadata": {},
   "source": [
    "### seed points\n",
    "\n",
    "seed points are used to initialize the populating process of individual fibers inside the fiber bundle.\n",
    "\n",
    "Seed points are a list of 3d points.\n",
    "This toolbox provides two methods to build seed points pattern.\n",
    "\n",
    "The first one is a 2d triangular grid.\n",
    "It is defined by a `width`, `height` and an inside `spacing` between the seed point.\n",
    "Additionally one can actiavte the `center` option so that the seed points are centered around a seed point at `(0,0,0)`.\n",
    "\n",
    "The second method provides a circular shape instead of a rectangular.\n",
    "However it can also be achievd by using an additional function `crop_circle` which returns only seed points along the first two dimensions with the defined `radius` around the center."
   ]
  },
  {
   "cell_type": "code",
   "execution_count": null,
   "metadata": {},
   "outputs": [],
   "source": [
    "seeds = sandbox.seeds.triangular_grid(a=42, b=42, spacing=6, center=True)\n",
    "radius = 21\n",
    "circ_seeds = sandbox.seeds.crop_circle(radius=radius, seeds=seeds)\n",
    "fig, ax = plt.subplots(1, 1)\n",
    "plt.title(\"seed points\")\n",
    "plt.scatter(seeds[:, 0], seeds[:, 1])\n",
    "plt.scatter(circ_seeds[:, 0], circ_seeds[:, 1])\n",
    "ax.set_aspect('equal', 'box')\n",
    "\n",
    "# plot circle margin\n",
    "t = np.linspace(0,2*np.pi,42)\n",
    "x = radius*np.cos(t)\n",
    "y = radius*np.sin(t)\n",
    "plt.plot(x, y)\n",
    "plt.show()"
   ]
  },
  {
   "cell_type": "markdown",
   "metadata": {},
   "source": [
    "### Generating a fiber bundle from seed points\n",
    "\n",
    "The next step is to build a fiber bundle from the desined trajectory and seed points.\n",
    "\n",
    "However one additional step is necesarry.\n",
    "Since nerve fibers are not a line, but a 3d object, they need also a volume for the later `solving` and `simulation` steps of this toolbox.\n",
    "This toolbox describes nerve fibers as tubes, which are defined by a list of points and radii, i. e. (n,4)-np.array).\n",
    "The radii `[:,3]` can change along the fiber trajectories `[:,0:3]` allowiing for a change of thickness.\n",
    "\n",
    "Now we have everything we need to build a fiber bundle from the desined trajectory and seed points.\n",
    "The function `bundle` provides this funcionallity.\n",
    "Additionally to the `traj` and `seeds` parameter the `radii` can be a single number if all fibers should have the same radii, or a list of numbers, if each fiber shell have a different radii.\n",
    "An additional `scale` parameter allows to scale the seed points along the trajectory e. g. allowing for a fanning. \n"
   ]
  },
  {
   "cell_type": "code",
   "execution_count": null,
   "metadata": {},
   "outputs": [],
   "source": [
    "# populating fiber bundle\n",
    "fiber_bundle = sandbox.build.bundle(traj=traj,\n",
    "                                    seeds=circ_seeds,\n",
    "                                    radii=np.random.uniform(\n",
    "                                        0.5, 0.8, circ_seeds.shape[0]),\n",
    "                                    scale=0.25 + 0.5*np.linspace(0,1,traj.shape[0]))\n",
    "\n",
    "# plotting                                \n",
    "fig = plt.figure()\n",
    "ax = fig.add_subplot(1,1,1, projection='3d')    \n",
    "for fiber in fiber_bundle:\n",
    "    ax.plot(fiber[:, 0], fiber[:, 1], fiber[:, 2])\n",
    "plt.title(\"fiber bundle\")\n",
    "\n",
    "plt.show()"
   ]
  },
  {
   "cell_type": "markdown",
   "metadata": {},
   "source": [
    "### cylindrical shapes\n",
    "\n"
   ]
  },
  {
   "cell_type": "code",
   "execution_count": null,
   "metadata": {},
   "outputs": [],
   "source": [
    "# plotting                                \n",
    "fig = plt.figure()\n",
    "seeds = sandbox.seeds.triangular_grid(a=200, b=200, spacing=5, center=True)\n",
    "for i, mode in enumerate(['radial', 'circular', 'parallel']):\n",
    "    ax = fig.add_subplot(1,3,i+1, projection='3d')    \n",
    "    fiber_bundle = sandbox.build.cylinder(p=(0, 80, 50),\n",
    "                                            q=(40, 80, 100),\n",
    "                                            r_in=20,\n",
    "                                            r_out=40,\n",
    "                                            seeds=seeds,\n",
    "                                            radii=1,\n",
    "                                            alpha=np.deg2rad(20),\n",
    "                                            beta=np.deg2rad(160),\n",
    "                                            mode=mode)\n",
    "    for fiber in fiber_bundle:\n",
    "        ax.plot(fiber[:, 0], fiber[:, 1], fiber[:, 2])\n",
    "    plt.title(f'{mode}')\n",
    "\n",
    "\n",
    "plt.show()"
   ]
  },
  {
   "cell_type": "markdown",
   "metadata": {},
   "source": [
    "### cubic shapes"
   ]
  },
  {
   "cell_type": "code",
   "execution_count": null,
   "metadata": {},
   "outputs": [],
   "source": [
    "# define cub corner points\n",
    "p = np.array([0, 80, 50])\n",
    "q = np.array([40, 180, 100])\n",
    "\n",
    "# create seed points which will fill the cube\n",
    "d = np.max(np.abs(p - q)) * np.sqrt(3)\n",
    "seeds = sandbox.seeds.triangular_grid(a=d, b=d, spacing=10, center=True)\n",
    "\n",
    "# fill a cube with (theta, phi) directed fibers\n",
    "fiber_bundle = sandbox.build.cuboid(p=p,\n",
    "                                    q=q,\n",
    "                                    phi=np.deg2rad(45),\n",
    "                                    theta=np.deg2rad(90),\n",
    "                                    seeds=seeds,\n",
    "                                    radii=1)\n",
    "\n",
    "fig = plt.figure()                                    \n",
    "ax = fig.add_subplot(1,1,1, projection='3d')   \n",
    "for fiber in fiber_bundle:\n",
    "    ax.plot(fiber[:, 0], fiber[:, 1], fiber[:, 2])\n",
    "plt.title('cubic shape')   \n",
    "set_3d_axes_equal(ax)\n",
    "plt.show()                                 "
   ]
  },
  {
   "source": [
    "## next\n",
    "\n",
    "from here further anatomical more interesting examples are presented in the solver tutorial and `examples/crossing.py` example."
   ],
   "cell_type": "markdown",
   "metadata": {}
  }
 ],
 "metadata": {
  "kernelspec": {
   "name": "python3",
   "display_name": "Python 3.8.5 64-bit ('env')",
   "metadata": {
    "interpreter": {
     "hash": "8beb8b10eec2686057ebd33faa8a9971416e9989bf5fe58f58b1fde3d7f5ffcc"
    }
   }
  },
  "language_info": {
   "codemirror_mode": {
    "name": "ipython",
    "version": 3
   },
   "file_extension": ".py",
   "mimetype": "text/x-python",
   "name": "python",
   "nbconvert_exporter": "python",
   "pygments_lexer": "ipython3",
   "version": "3.8.5-final"
  }
 },
 "nbformat": 4,
 "nbformat_minor": 2
}