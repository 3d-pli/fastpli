{
 "cells": [
  {
   "cell_type": "markdown",
   "metadata": {},
   "source": [
    "# Optic Chiasm - Tutorial\n",
    "\n",
    "The [optic chiasm](https://en.wikipedia.org/wiki/Optic_chiasm) is a structure in the brain, where the two nerve fiber bundles from the eyes cross each other.\n",
    "However not all of the fiber cross the structure.\n",
    "Depending on the species, a fraction of the nerve fibers stay on the same hemisphere.\n",
    "\n",
    "### Note\n",
    "\n",
    "> The here choosen fibers radii and their layer parameters are not realistic. They are just for a fast computation.\n"
   ]
  },
  {
   "cell_type": "markdown",
   "metadata": {},
   "source": [
    "## General imports"
   ]
  },
  {
   "cell_type": "code",
   "execution_count": null,
   "metadata": {},
   "outputs": [],
   "source": [
    "import fastpli.model.sandbox\n",
    "import fastpli.model.solver\n",
    "import fastpli.simulation\n",
    "import fastpli.analysis\n",
    "import fastpli.tools\n",
    "import fastpli.io\n",
    "\n",
    "import matplotlib.pyplot as plt\n",
    "import matplotlib.animation as animation\n",
    "import multiprocessing as mp\n",
    "import numpy as np\n",
    "import scipy.interpolate as si\n",
    "\n",
    "pool = mp.Pool(2)\n",
    "np.random.seed(42)"
   ]
  },
  {
   "cell_type": "markdown",
   "metadata": {},
   "source": [
    "Here we just do a simple representation to get an idea of how we can build such a structure.\n",
    "\n",
    "We start of defining the main fiber bundle geometries, which we will later fill with individual fibers.\n",
    "\n",
    "We need two crossing trajectories `fb_0` and `fb_1` as well as two kissing trajectories `fb_left` and `fb_right`.\n",
    "To help for a smoother curve, we use the scipy interpolation function."
   ]
  },
  {
   "cell_type": "code",
   "execution_count": null,
   "metadata": {},
   "outputs": [],
   "source": [
    "\n",
    "# two crossing main bundle\n",
    "fb_0 = np.array([[-2000, -2000, 0], [-1000, -1000, 0], [0,0,0], [1000, 1000,0], [2000, 2000, 0]])\n",
    "fb_1 = np.array([[-2000, 2000, 0], [-1000, 1000, 0], [0,0,0], [1000, -1000,0], [2000, -2000, 0]])\n",
    "\n",
    "# left and right non crossing bundle\n",
    "fb_left = np.array([[-2000,-2000,0], [-1050,-1000,0], [-300,0,0], [-1050,1000,0], [-2000,2000,0]])\n",
    "fb_right = fb_left.copy()\n",
    "fb_right[:,0] *= -1\n",
    "\n",
    "# interpolate left and right bundle for smoother\n",
    "N = 20\n",
    "t = np.linspace(0,1,fb_left.shape[0])\n",
    "t_intp = np.linspace(0,1,N)\n",
    "fb_left = np.array([si.interp1d(t, fb_left[:,0], 'quadratic')(t_intp), si.interp1d(t, fb_left[:,1], 'quadratic')(t_intp), si.interp1d(t, fb_left[:,2], 'quadratic')(t_intp)]).T\n",
    "fb_right = np.array([si.interp1d(t, fb_right[:,0], 'quadratic')(t_intp), si.interp1d(t, fb_right[:,1], 'quadratic')(t_intp), si.interp1d(t, fb_right[:,2], 'quadratic')(t_intp)]).T\n",
    "\n",
    "fig, ax = plt.subplots(1,1)\n",
    "plt.plot(fb_0[:,0], fb_0[:,1])\n",
    "plt.plot(fb_1[:,0], fb_1[:,1])\n",
    "plt.plot(fb_left[:,0], fb_left[:,1])\n",
    "plt.plot(fb_right[:,0], fb_right[:,1])\n",
    "ax.axis('equal')\n",
    "plt.show()\n"
   ]
  },
  {
   "cell_type": "markdown",
   "metadata": {},
   "source": [
    "Now we can fill the bundles with fibers.\n",
    "To account for additional varirity we use a random sampling of radii.\n",
    "The `sandbox.build.bundle` methods helps us to generate the filled fiber bundles `ffb_*`"
   ]
  },
  {
   "cell_type": "code",
   "execution_count": null,
   "metadata": {},
   "outputs": [],
   "source": [
    "population = fastpli.model.sandbox.seeds.triangular_circle(800, 200)\n",
    "fiber_radii = np.random.uniform(50.0, 100.0, population.shape[0])\n",
    "ffb_0 = fastpli.model.sandbox.build.bundle(fb_0, population, fiber_radii)\n",
    "ffb_1 = fastpli.model.sandbox.build.bundle(fb_1, population, fiber_radii)\n",
    "\n",
    "population = fastpli.model.sandbox.seeds.triangular_circle(400, 200)\n",
    "fiber_radii = np.random.uniform(50.0, 100.0, population.shape[0])\n",
    "ffb_left = fastpli.model.sandbox.build.bundle(fb_left, population, fiber_radii)\n",
    "ffb_right = fastpli.model.sandbox.build.bundle(fb_right, population, fiber_radii)"
   ]
  },
  {
   "cell_type": "markdown",
   "metadata": {},
   "source": [
    "Now we have our initial structure.\n",
    "However the individual fiber most certanly collide with each other.\n",
    "Therefore we use the `Solver` to help us.\n",
    "\n",
    "### Note\n",
    "\n",
    "> The `Solver` class provides a `Solver.draw_scene()` method.\n",
    "> However you should not use this in a jupyter notebook, since its current design does not allow a second initialization of the underlying _OpenGL_ structure.\n",
    "> See `examples/optic_chiasm.py` for this.\n",
    "> To have a animated view, we use IPython's display function\n",
    "\n",
    "> Also be carefull with the number of fibers and fiber segments (i. e. obj_mean_length).\n",
    "> Depending on the configurations, the computational complexity can increase by `O(n_segments^2)`"
   ]
  },
  {
   "cell_type": "code",
   "execution_count": null,
   "metadata": {},
   "outputs": [],
   "source": [
    "from IPython import display\n",
    "fig, ax = plt.subplots(1,1)\n",
    "\n",
    "solver = fastpli.model.solver.Solver()\n",
    "solver.fiber_bundles = [ffb_0, ffb_1, ffb_left, ffb_right]\n",
    "solver.obj_min_radius = 150\n",
    "solver.obj_mean_length = 150\n",
    "solver.omp_num_threads = 2\n",
    "\n",
    "for i in range(1000):\n",
    "    solved = solver.step()\n",
    "    if i % 42 == 0:\n",
    "        for fb in solver.fiber_bundles:\n",
    "            for f in fb:\n",
    "                # show only the middle section of fibers\n",
    "                if np.any(f[:,2] > 50) or np.any(f[:,2] < -50):\n",
    "                    plt.plot(f[:,0], f[:,1])\n",
    "        ax.axis('equal')\n",
    "        ax.set_title(f'step: {i}')\n",
    "        display.clear_output(wait=True)\n",
    "        display.display(fig)\n",
    "    if solved:\n",
    "        break"
   ]
  },
  {
   "cell_type": "markdown",
   "metadata": {},
   "source": [
    "Now that we have our model we want to simulate it inside a virtual 3D-PLI microscope.\n",
    "We cut out a brain section of 4000x4000x100 µm^3.\n",
    "\n",
    "### Note\n",
    "\n",
    "> The simulation takes quite a lot of memory. It's size increases with `O(n_x*n_y*n_z)`.\n",
    "> The `Simpli.memory_usage()` method gives you a hint how much memory is needed."
   ]
  },
  {
   "cell_type": "code",
   "execution_count": null,
   "metadata": {},
   "outputs": [],
   "source": [
    "simpli = fastpli.simulation.Simpli()\n",
    "simpli.omp_num_threads = 2\n",
    "simpli.voxel_size = 5  # in micro meter\n",
    "simpli.set_voi([-2000, -2000, -50], [2000, 2000, 50])  # in micro meter\n",
    "simpli.fiber_bundles = solver.fiber_bundles\n",
    "simpli.fiber_bundles.layers = [[(1.0, -0.0001, 5, 'p')]] * len(\n",
    "        simpli.fiber_bundles)\n",
    "print('Memory:', str(round(simpli.memory_usage('MB'), 2)) + ' MB')        "
   ]
  },
  {
   "cell_type": "markdown",
   "metadata": {},
   "source": [
    "Next we generate the discreticed volume"
   ]
  },
  {
   "cell_type": "code",
   "execution_count": null,
   "metadata": {},
   "outputs": [],
   "source": [
    "tissue, optical_axis, tissue_properties = simpli.generate_tissue()"
   ]
  },
  {
   "cell_type": "markdown",
   "metadata": {},
   "source": [
    "and after defining the microscopic parameters"
   ]
  },
  {
   "cell_type": "code",
   "execution_count": null,
   "metadata": {},
   "outputs": [],
   "source": [
    "simpli.filter_rotations = np.deg2rad([0, 30, 60, 90, 120, 150])\n",
    "simpli.light_intensity = 26000  # a.u.\n",
    "simpli.wavelength = 525  # in nm\n",
    "simpli.pixel_size = 20  # in micro meter\n",
    "simpli.optical_sigma = 0.71  # in pixel size\n",
    "simpli.noise_model = lambda x: np.random.negative_binomial(\n",
    "    x / (3 - 1), 1 / 3)\n",
    "simpli.tilts = np.deg2rad([(0, 0), (5.5, 0), (5.5, 90),\n",
    "                            (5.5, 180), (5.5, 270)])"
   ]
  },
  {
   "cell_type": "markdown",
   "metadata": {},
   "source": [
    "we can simulate and analyse our measurement"
   ]
  },
  {
   "cell_type": "code",
   "execution_count": null,
   "metadata": {},
   "outputs": [],
   "source": [
    "tilting_stack = []\n",
    "for theta, phi in simpli.tilts:\n",
    "    print(f\"Tilt: theta={np.rad2deg(theta):.1f}, phi={np.rad2deg(phi):.1f}\")\n",
    "    images = simpli.run_simulation(tissue, optical_axis, tissue_properties,\n",
    "                                    theta, phi)\n",
    "\n",
    "    _, images = simpli.apply_optic(images)\n",
    "    tilting_stack.append(images)\n",
    "\n",
    "transmittance, direction, retardation = simpli.apply_epa(tilting_stack[0])\n",
    "rofl_direction, rofl_incl, rofl_t_rel, _ = simpli.apply_rofl(tilting_stack, mp_pool=pool)\n",
    "fom = fastpli.analysis.images.fom_hsv_black(rofl_direction, rofl_incl)"
   ]
  },
  {
   "cell_type": "markdown",
   "metadata": {},
   "source": [
    "### Note\n",
    "\n",
    "All datasets containing spacial information (images, tissue, optical axis) are orded in x-y-z. Since Matplotlib and mostly other visualization libraries or image datasets expect a order of y-x, we have to swap the first two axis first. Additionally we also have to set the origin to 'lower'. Also it is recommendet to use the interpolation method 'nearest'."
   ]
  },
  {
   "cell_type": "code",
   "execution_count": null,
   "metadata": {},
   "outputs": [],
   "source": [
    "fig, axs = plt.subplots(1,3, sharey=True, figsize=(15,5))\n",
    "axs[0].imshow(transmittance.T, origin='lower', interpolation='nearest')\n",
    "axs[0].set_title('transmittance')\n",
    "axs[1].imshow(direction.T, origin='lower', interpolation='nearest')\n",
    "axs[1].set_title('direction')\n",
    "axs[2].imshow(retardation.T, origin='lower', interpolation='nearest')\n",
    "axs[2].set_title('retardation')"
   ]
  },
  {
   "cell_type": "code",
   "execution_count": null,
   "metadata": {},
   "outputs": [],
   "source": [
    "fig, axs = plt.subplots(1,4, sharey=True, figsize=(20,5))\n",
    "axs[0].imshow(rofl_direction.T, origin='lower', interpolation='nearest')\n",
    "axs[0].set_title('direction')\n",
    "axs[1].imshow(rofl_incl.T, origin='lower', interpolation='nearest')\n",
    "axs[1].set_title('inclination')\n",
    "axs[2].imshow(rofl_t_rel.T, origin='lower', interpolation='nearest')\n",
    "axs[2].set_title('t_rel')\n",
    "axs[3].imshow(np.swapaxes(fom, 0, 1), origin='lower', interpolation='nearest')\n",
    "axs[3].set_title('fom')\n",
    "plt.show()\n",
    "\n",
    "fig, axs = plt.subplots(1,1, figsize=(1,1))\n",
    "plt.imshow(np.swapaxes(fastpli.analysis.images.hsv_black_sphere(), 0, 1), origin='lower')\n",
    "plt.axis('off')"
   ]
  }
 ],
 "metadata": {
  "language_info": {
   "name": "python"
  }
 },
 "nbformat": 4,
 "nbformat_minor": 2
}
