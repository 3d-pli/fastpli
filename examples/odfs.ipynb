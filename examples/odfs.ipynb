{
 "cells": [
  {
   "cell_type": "code",
   "execution_count": 1,
   "metadata": {},
   "outputs": [],
   "source": [
    "import matplotlib.pyplot as plt\n",
    "import numpy as np\n",
    "\n",
    "import fastpli.analysis\n",
    "\n",
    "np.random.seed(42)\n"
   ]
  },
  {
   "cell_type": "code",
   "execution_count": 2,
   "metadata": {},
   "outputs": [],
   "source": [
    "domega = 10\n",
    "N = 100\n",
    "bands = 6\n",
    "\n",
    "phi = np.linspace(-domega, domega, N)\n",
    "incl = np.linspace(-domega, domega, N)\n",
    "\n",
    "phi = np.append(phi, np.linspace(45 - domega, 45 + domega, N))\n",
    "incl = np.append(incl, incl + 90)\n",
    "\n",
    "mask = np.ones_like(phi, dtype=bool)\n",
    "odf_coeff = fastpli.analysis.odf.calc_real_sh(phi, incl, mask, bands)\n"
   ]
  },
  {
   "cell_type": "code",
   "execution_count": null,
   "metadata": {},
   "outputs": [],
   "source": [
    "fastpli.analysis.odf.visualize_odf(odf_coeff, 64, 64)\n"
   ]
  }
 ],
 "metadata": {
  "kernelspec": {
   "display_name": "fastpli",
   "language": "python",
   "name": "python3"
  },
  "language_info": {
   "codemirror_mode": {
    "name": "ipython",
    "version": 3
   },
   "file_extension": ".py",
   "mimetype": "text/x-python",
   "name": "python",
   "nbconvert_exporter": "python",
   "pygments_lexer": "ipython3",
   "version": "3.11.6"
  }
 },
 "nbformat": 4,
 "nbformat_minor": 2
}
